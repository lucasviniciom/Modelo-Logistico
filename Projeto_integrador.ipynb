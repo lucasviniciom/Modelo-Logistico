{
 "cells": [
  {
   "cell_type": "markdown",
   "metadata": {
    "id": "CNWS3_iwKaqH"
   },
   "source": [
    "**Projeto integrador**\n",
    "\n",
    "Parte do Modulo Inferencia, da Pos Graduação em Data Science e Big Data da UFPR. Utilizar o modelo logistico para prever o numero de inscritos acumulados em canais do Youtube.\n",
    "\n",
    "---\n",
    "\n",
    "Codigo desenvolvido por Lucas Vinicio Maldonado."
   ]
  },
  {
   "cell_type": "code",
   "execution_count": 33,
   "metadata": {
    "id": "QXE26zdoCD5j"
   },
   "outputs": [],
   "source": [
    "import math\n",
    "import pandas as pd\n",
    "import numpy as np\n",
    "from scipy.optimize import minimize\n",
    "import scipy.optimize as optim \n",
    "import matplotlib.pyplot as plt\n",
    "import seaborn as sns\n",
    "%matplotlib inline"
   ]
  },
  {
   "cell_type": "code",
   "execution_count": 5,
   "metadata": {
    "colab": {
     "base_uri": "https://localhost:8080/",
     "height": 297
    },
    "id": "kkqkXBpnCfyt",
    "outputId": "a5c5ce58-268e-4a83-d32b-aa92ea3a8e92"
   },
   "outputs": [
    {
     "data": {
      "text/html": [
       "<div>\n",
       "<style scoped>\n",
       "    .dataframe tbody tr th:only-of-type {\n",
       "        vertical-align: middle;\n",
       "    }\n",
       "\n",
       "    .dataframe tbody tr th {\n",
       "        vertical-align: top;\n",
       "    }\n",
       "\n",
       "    .dataframe thead th {\n",
       "        text-align: right;\n",
       "    }\n",
       "</style>\n",
       "<table border=\"1\" class=\"dataframe\">\n",
       "  <thead>\n",
       "    <tr style=\"text-align: right;\">\n",
       "      <th></th>\n",
       "      <th>DIAS</th>\n",
       "      <th>VIEWS</th>\n",
       "      <th>INSCRITOS</th>\n",
       "    </tr>\n",
       "  </thead>\n",
       "  <tbody>\n",
       "    <tr>\n",
       "      <th>count</th>\n",
       "      <td>1457.000000</td>\n",
       "      <td>1457.000000</td>\n",
       "      <td>1457.000000</td>\n",
       "    </tr>\n",
       "    <tr>\n",
       "      <th>mean</th>\n",
       "      <td>374.881949</td>\n",
       "      <td>134515.582704</td>\n",
       "      <td>0.025028</td>\n",
       "    </tr>\n",
       "    <tr>\n",
       "      <th>std</th>\n",
       "      <td>227.023743</td>\n",
       "      <td>148105.799943</td>\n",
       "      <td>0.020542</td>\n",
       "    </tr>\n",
       "    <tr>\n",
       "      <th>min</th>\n",
       "      <td>1.000000</td>\n",
       "      <td>89.000000</td>\n",
       "      <td>0.000010</td>\n",
       "    </tr>\n",
       "    <tr>\n",
       "      <th>25%</th>\n",
       "      <td>183.000000</td>\n",
       "      <td>25700.000000</td>\n",
       "      <td>0.006570</td>\n",
       "    </tr>\n",
       "    <tr>\n",
       "      <th>50%</th>\n",
       "      <td>365.000000</td>\n",
       "      <td>98024.000000</td>\n",
       "      <td>0.020510</td>\n",
       "    </tr>\n",
       "    <tr>\n",
       "      <th>75%</th>\n",
       "      <td>547.000000</td>\n",
       "      <td>172000.000000</td>\n",
       "      <td>0.038870</td>\n",
       "    </tr>\n",
       "    <tr>\n",
       "      <th>max</th>\n",
       "      <td>850.000000</td>\n",
       "      <td>934121.000000</td>\n",
       "      <td>0.146110</td>\n",
       "    </tr>\n",
       "  </tbody>\n",
       "</table>\n",
       "</div>"
      ],
      "text/plain": [
       "              DIAS          VIEWS    INSCRITOS\n",
       "count  1457.000000    1457.000000  1457.000000\n",
       "mean    374.881949  134515.582704     0.025028\n",
       "std     227.023743  148105.799943     0.020542\n",
       "min       1.000000      89.000000     0.000010\n",
       "25%     183.000000   25700.000000     0.006570\n",
       "50%     365.000000   98024.000000     0.020510\n",
       "75%     547.000000  172000.000000     0.038870\n",
       "max     850.000000  934121.000000     0.146110"
      ]
     },
     "execution_count": 5,
     "metadata": {
      "tags": []
     },
     "output_type": "execute_result"
    }
   ],
   "source": [
    "#Substituir caminho correspondete do arquivo youtube.txt\n",
    "data = pd.read_csv(r'/content/youtube.txt', sep=\" \", header=0)\n",
    "data['INSCRITOS'] = data['INSCRITOS']/100000\n",
    "data.describe()"
   ]
  },
  {
   "cell_type": "code",
   "execution_count": 21,
   "metadata": {
    "colab": {
     "base_uri": "https://localhost:8080/"
    },
    "id": "RmagNDwqCpPj",
    "outputId": "76bd921f-f759-42cb-d2c3-f790df3e01bd"
   },
   "outputs": [
    {
     "name": "stdout",
     "output_type": "stream",
     "text": [
      "607\n"
     ]
    },
    {
     "name": "stderr",
     "output_type": "stream",
     "text": [
      "/usr/local/lib/python3.7/dist-packages/ipykernel_launcher.py:3: SettingWithCopyWarning: \n",
      "A value is trying to be set on a copy of a slice from a DataFrame.\n",
      "Try using .loc[row_indexer,col_indexer] = value instead\n",
      "\n",
      "See the caveats in the documentation: https://pandas.pydata.org/pandas-docs/stable/user_guide/indexing.html#returning-a-view-versus-a-copy\n",
      "  This is separate from the ipykernel package so we can avoid doing imports until\n",
      "/usr/local/lib/python3.7/dist-packages/ipykernel_launcher.py:6: SettingWithCopyWarning: \n",
      "A value is trying to be set on a copy of a slice from a DataFrame.\n",
      "Try using .loc[row_indexer,col_indexer] = value instead\n",
      "\n",
      "See the caveats in the documentation: https://pandas.pydata.org/pandas-docs/stable/user_guide/indexing.html#returning-a-view-versus-a-copy\n",
      "  \n"
     ]
    }
   ],
   "source": [
    "#Dados separados de cada canal\n",
    "df_ch1 = data.iloc[:850,:]\n",
    "df_ch1['y'] = data.loc[:850,'INSCRITOS'].cumsum()\n",
    "\n",
    "df_ch2 = data.iloc[850:,:]\n",
    "df_ch2['y'] = data.loc[850:,'INSCRITOS'].cumsum()\n",
    "print(len(df_ch2['y']))\n"
   ]
  },
  {
   "cell_type": "markdown",
   "metadata": {
    "id": "uKb4RA8mKCWj"
   },
   "source": [
    "# Analise do canal Invento na Hora"
   ]
  },
  {
   "cell_type": "code",
   "execution_count": 23,
   "metadata": {
    "id": "PZ45Pj9-GC1t"
   },
   "outputs": [],
   "source": [
    "##Analise do canal Invento na Hora\n",
    "\n",
    "#Modelagem logisticia\n",
    "def ModLogist(x,a,b,c):\n",
    "    fnc = a/(1+np.exp(-b*(x-c)))\n",
    "    #Função para a perda\n",
    "    #Eq_Perda = sum((y -fnc)^2)\n",
    "    return fnc\n",
    "\n",
    "def residual(p, x, y):\n",
    "    return y - ModLogist(x, *p)\n",
    "\n",
    "#Otimização da função\n",
    "## Foram testados 3 modelos, cada um com formas diferentes de passar os argumentos e metodos de otimização diferentes\n",
    "## Todos geraram resultados similares. Escolhi finalmente usar o leastsq.\n",
    "\n",
    "#Foram testados manualmente diversos valores para x0 - L, beta,beta1 - ate encontrar os que mais aproximam a função\n",
    "x0 = np.array([30, 1, 700])\n",
    "#bounds=((30,0,500), (40, 1, 700))\n",
    "#optimized = minimize(fun=ModLogist, args=(df_ch1['y']), x0 = x0, method='BFGS')\n",
    "#(a,b,c), pcov = optim.curve_fit(ModLogist,xdata= df_ch1['DIAS'], ydata=df_ch1['y'], p0=x0 )\n",
    "x= df_ch1['DIAS']\n",
    "y=df_ch1['y']\n",
    "popt, pcov = optim.leastsq(residual, x0, args=(x, y))\n",
    "a,b,c = popt[:]"
   ]
  },
  {
   "cell_type": "code",
   "execution_count": 25,
   "metadata": {
    "id": "k5CmU5MzGes_"
   },
   "outputs": [],
   "source": [
    "##Estimando os valores de y para o proximo ano e juntando com os registrados para visualização\n",
    "y_estimado = []\n",
    "for x in range(850,1215):\n",
    "    y_estimado.append(a/(1+np.exp(-b*(x-c))))\n",
    "y_1 = df_ch1['y'].tolist()\n",
    "y_1.extend(y_estimado)"
   ]
  },
  {
   "cell_type": "code",
   "execution_count": 120,
   "metadata": {
    "colab": {
     "base_uri": "https://localhost:8080/",
     "height": 388
    },
    "id": "NAgc4Pg-IiRD",
    "outputId": "eaa51f00-5062-413c-da70-b53bf1ca6aa0"
   },
   "outputs": [
    {
     "data": {
      "image/png": "[encoded data removed]",
      "text/plain": [
       "<Figure size 459.475x360 with 1 Axes>"
      ]
     },
     "metadata": {
      "tags": []
     },
     "output_type": "display_data"
    }
   ],
   "source": [
    "sns.set_theme(style=\"whitegrid\")\n",
    "\n",
    "df1 = pd.DataFrame({'Dias': list(range(0,1215)), 'Inscritos no canal(*100000)': y_1, 'Legenda': 'Previsão'})\n",
    "df2 = pd.DataFrame({'Dias': list(range(0,850)), 'y2': df_ch1['y'], 'Legenda': 'Observado'}).rename(columns={'y2': 'Inscritos no canal(*100000)'})\n",
    "\n",
    "df = pd.concat([df1, df2]).reset_index(drop=True)\n",
    "\n",
    "\n",
    "g = sns.relplot(data=df, x = 'Dias', y = 'Inscritos no canal(*100000)', kind = 'line', hue = 'Legenda', palette = ['Purple', 'skyblue'],linewidth=4  )\n",
    "g.fig.suptitle(\"Previsão de inscritos no canal\", x=0.43, y=0.98)\n",
    "plt.subplots_adjust(top=0.85)\n"
   ]
  },
  {
   "cell_type": "code",
   "execution_count": 144,
   "metadata": {
    "colab": {
     "base_uri": "https://localhost:8080/"
    },
    "id": "ZrhcvzK3dIAR",
    "outputId": "0de23cb4-7486-4939-bcf4-102c17f4c0ce"
   },
   "outputs": [
    {
     "name": "stdout",
     "output_type": "stream",
     "text": [
      "2387158.39431165\n"
     ]
    }
   ],
   "source": [
    "#Total de inscritos apos um ano\n",
    "\n",
    "y_365 = y_1[-1:].pop()\n",
    "print(y_365*100000)"
   ]
  },
  {
   "cell_type": "markdown",
   "metadata": {
    "id": "8z58MBspKHH0"
   },
   "source": [
    "# Analise do canal Voce Sabia"
   ]
  },
  {
   "cell_type": "code",
   "execution_count": 51,
   "metadata": {
    "colab": {
     "base_uri": "https://localhost:8080/"
    },
    "id": "Jh7GpB4KKQft",
    "outputId": "db2864af-0e07-4852-bb44-037d34bf3562"
   },
   "outputs": [
    {
     "name": "stdout",
     "output_type": "stream",
     "text": [
      "48.978393790700956 0.007071967488260629 713.0784062772449\n"
     ]
    }
   ],
   "source": [
    "#Novamente, diversos valores manuais foram testados ate obter os que convergiam.\n",
    "x02 = np.array([45, 0.06, 700])\n",
    "x2= df_ch2['DIAS']\n",
    "y2=df_ch2['y']\n",
    "\n",
    "popt2, pcov2 = optim.leastsq(residual, x02, args=(x2, y2))\n",
    "\n",
    "a2,b2,c2 = popt2[:]\n",
    "print(a2,b2,c2)"
   ]
  },
  {
   "cell_type": "code",
   "execution_count": 53,
   "metadata": {
    "id": "YgnTiV7HOVOc"
   },
   "outputs": [],
   "source": [
    "y_estimado2 = []\n",
    "#resultados de y para 850 +365 dias \n",
    "for x in range(607,972):\n",
    "    y_estimado2.append(a2/(1+np.exp(-b2*(x-c2))))\n",
    "\n",
    "y_2 = df_ch2['y'].tolist()\n",
    "y_2.extend(y_estimado2)"
   ]
  },
  {
   "cell_type": "code",
   "execution_count": 124,
   "metadata": {
    "colab": {
     "base_uri": "https://localhost:8080/",
     "height": 388
    },
    "id": "cM0HaR4uWK5C",
    "outputId": "0ec38dff-969a-4583-dba2-b33fb8548260"
   },
   "outputs": [
    {
     "data": {
      "image/png": "[encoded data removed]",
      "text/plain": [
       "<Figure size 459.475x360 with 1 Axes>"
      ]
     },
     "metadata": {
      "tags": []
     },
     "output_type": "display_data"
    }
   ],
   "source": [
    "sns.set_theme(style=\"whitegrid\")\n",
    "\n",
    "df1 = pd.DataFrame({'Dias': list(range(0,972)), 'Inscritos no canal(*100000)': y_2, 'Legenda': 'Previsão'})\n",
    "df2 = pd.DataFrame({'Dias': list(range(0,607)), 'y2': df_ch2['y'], 'Legenda': 'Observado'}).rename(columns={'y2': 'Inscritos no canal(*100000)'})\n",
    "\n",
    "df = pd.concat([df1, df2]).reset_index(drop=True)\n",
    "\n",
    "\n",
    "g = sns.relplot(data=df, x = 'Dias', y = 'Inscritos no canal(*100000)', kind = 'line', hue = 'Legenda', palette = ['Purple', 'skyblue'],  linewidth=4 )\n",
    "\n",
    "g.fig.suptitle(\"Previsão de inscritos no canal\", x=0.43, y=0.98)\n",
    "plt.subplots_adjust(top=0.85)"
   ]
  },
  {
   "cell_type": "code",
   "execution_count": 143,
   "metadata": {
    "colab": {
     "base_uri": "https://localhost:8080/"
    },
    "id": "E3m_zlBqar9g",
    "outputId": "561f258f-e2e0-4ac8-e06f-31d463f66424"
   },
   "outputs": [
    {
     "name": "stdout",
     "output_type": "stream",
     "text": [
      "4217269.775587481\n"
     ]
    }
   ],
   "source": [
    "#Total de inscritos apos um ano\n",
    "\n",
    "y_365 = y_2[-1:].pop()\n",
    "print(y_365*100000)"
   ]
  },
  {
   "cell_type": "markdown",
   "metadata": {
    "id": "87WG-pe3J3gU"
   },
   "source": [
    "#Conclusões e referencias"
   ]
  },
  {
   "cell_type": "markdown",
   "metadata": {
    "id": "JCAIvQVkQijd"
   },
   "source": [
    "Ainda que a otimização não tenha se adaptado totalmente aos dados observados, é possivel obter uma previsão com elevada acuracia. Isso se deve principalmente a natureza do problema, visto que o numero de inscritos de um canal se comporta de tal forma aproximadamente.\n",
    "\n",
    "\n",
    "---\n",
    "\n",
    "\n",
    "\n",
    "De acordo com as estimativas, o numero de inscritos no canal Invento na hora sera de **2387158**, aproximadamente.\n",
    "\n",
    "\n",
    "Ja para o canal Voce Sabia, apos um ano o numero de inscritos sera de **4217269**, aproximadamente. \n",
    "\n",
    "\n",
    "\n",
    "https://mmas.github.io/least-squares-fitting-numpy-scipy\n",
    "https://docs.scipy.org/doc/scipy/reference/generated/scipy.optimize.least_squares.html\n",
    "https://docs.scipy.org/doc/scipy/reference/generated/scipy.optimize.curve_fit.html\n",
    "https://docs.scipy.org/doc/scipy/reference/generated/scipy.optimize.minimize.html#scipy.optimize.minimize"
   ]
  }
 ],
 "metadata": {
  "colab": {
   "collapsed_sections": [],
   "name": " Projeto integrador.ipynb",
   "provenance": []
  },
  "kernelspec": {
   "display_name": "Python 3",
   "language": "python",
   "name": "python3"
  },
  "language_info": {
   "codemirror_mode": {
    "name": "ipython",
    "version": 3
   },
   "file_extension": ".py",
   "mimetype": "text/x-python",
   "name": "python",
   "nbconvert_exporter": "python",
   "pygments_lexer": "ipython3",
   "version": "3.8.5"
  }
 },
 "nbformat": 4,
 "nbformat_minor": 1
}
